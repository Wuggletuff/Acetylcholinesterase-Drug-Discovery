{
 "cells": [
  {
   "cell_type": "markdown",
   "id": "3964a60f",
   "metadata": {},
   "source": [
    "# Bioinformatics Project: Acetylcholinesterase Drug Discovery"
   ]
  },
  {
   "cell_type": "markdown",
   "id": "71487afb",
   "metadata": {},
   "source": [
    "In this project, I recreate the work of Chanin Nantasenamat in his DataProfessor video series on a python based Bioinformatics drug discovery project."
   ]
  },
  {
   "cell_type": "markdown",
   "id": "11bd4597",
   "metadata": {},
   "source": [
    "# #-=-=-=-=-=-=-=-=-=-=-=-=-=-=#"
   ]
  },
  {
   "cell_type": "markdown",
   "id": "7f275b91",
   "metadata": {},
   "source": [
    "Installing the Libraries:"
   ]
  },
  {
   "cell_type": "code",
   "execution_count": 1,
   "id": "0d9e71fd",
   "metadata": {},
   "outputs": [
    {
     "name": "stdout",
     "output_type": "stream",
     "text": [
      "Collecting chembl_webresource_client\n",
      "  Downloading chembl_webresource_client-0.10.8-py3-none-any.whl (55 kB)\n",
      "\u001b[K     |████████████████████████████████| 55 kB 2.0 MB/s eta 0:00:01\n",
      "\u001b[?25hCollecting easydict\n",
      "  Downloading easydict-1.9.tar.gz (6.4 kB)\n",
      "Requirement already satisfied: urllib3 in /Users/gavincoladonato/opt/anaconda3/lib/python3.9/site-packages (from chembl_webresource_client) (1.26.7)\n",
      "Collecting requests-cache~=0.7.0\n",
      "  Downloading requests_cache-0.7.5-py3-none-any.whl (39 kB)\n",
      "Requirement already satisfied: requests>=2.18.4 in /Users/gavincoladonato/opt/anaconda3/lib/python3.9/site-packages (from chembl_webresource_client) (2.26.0)\n",
      "Requirement already satisfied: charset-normalizer~=2.0.0 in /Users/gavincoladonato/opt/anaconda3/lib/python3.9/site-packages (from requests>=2.18.4->chembl_webresource_client) (2.0.4)\n",
      "Requirement already satisfied: idna<4,>=2.5 in /Users/gavincoladonato/opt/anaconda3/lib/python3.9/site-packages (from requests>=2.18.4->chembl_webresource_client) (3.2)\n",
      "Requirement already satisfied: certifi>=2017.4.17 in /Users/gavincoladonato/opt/anaconda3/lib/python3.9/site-packages (from requests>=2.18.4->chembl_webresource_client) (2021.10.8)\n",
      "Requirement already satisfied: pyyaml>=5.4 in /Users/gavincoladonato/opt/anaconda3/lib/python3.9/site-packages (from requests-cache~=0.7.0->chembl_webresource_client) (6.0)\n",
      "Requirement already satisfied: attrs<22.0,>=21.2 in /Users/gavincoladonato/opt/anaconda3/lib/python3.9/site-packages (from requests-cache~=0.7.0->chembl_webresource_client) (21.2.0)\n",
      "Requirement already satisfied: itsdangerous>=2.0.1 in /Users/gavincoladonato/opt/anaconda3/lib/python3.9/site-packages (from requests-cache~=0.7.0->chembl_webresource_client) (2.0.1)\n",
      "Collecting url-normalize<2.0,>=1.4\n",
      "  Downloading url_normalize-1.4.3-py2.py3-none-any.whl (6.8 kB)\n",
      "Requirement already satisfied: six in /Users/gavincoladonato/opt/anaconda3/lib/python3.9/site-packages (from url-normalize<2.0,>=1.4->requests-cache~=0.7.0->chembl_webresource_client) (1.16.0)\n",
      "Building wheels for collected packages: easydict\n",
      "  Building wheel for easydict (setup.py) ... \u001b[?25ldone\n",
      "\u001b[?25h  Created wheel for easydict: filename=easydict-1.9-py3-none-any.whl size=6360 sha256=51d732e02c1833d43dea0ab85321ff18e9b79167dd6fdce32584078e3751653a\n",
      "  Stored in directory: /Users/gavincoladonato/Library/Caches/pip/wheels/b2/1c/36/fd8efc3fa029b1445d869f359ec13e8fbce7fc9e81505bca66\n",
      "Successfully built easydict\n",
      "Installing collected packages: url-normalize, requests-cache, easydict, chembl-webresource-client\n",
      "Successfully installed chembl-webresource-client-0.10.8 easydict-1.9 requests-cache-0.7.5 url-normalize-1.4.3\n"
     ]
    }
   ],
   "source": [
    "# installing ChEMBL, a massive online database \n",
    "# of the \"bioactivity\" of chemical compounds\n",
    "\n",
    "! pip install chembl_webresource_client"
   ]
  },
  {
   "cell_type": "code",
   "execution_count": 3,
   "id": "d2edf70e",
   "metadata": {},
   "outputs": [],
   "source": [
    "# importing a certain ChEMBL, library and pandas\n",
    "\n",
    "import pandas as pd\n",
    "from chembl_webresource_client.new_client import new_client"
   ]
  },
  {
   "cell_type": "markdown",
   "id": "823fb617",
   "metadata": {},
   "source": [
    "Now, using this massive database that we have now downloaded, we must indicate a target protein that we want to \"target\" a search for. In this case, we want to search for the protein Acetylcholinesterase."
   ]
  },
  {
   "cell_type": "code",
   "execution_count": 6,
   "id": "37044909",
   "metadata": {},
   "outputs": [],
   "source": [
    "# search target: acetylcholinesterase\n",
    "\n",
    "target = new_client.target\n",
    "target_query = target.search('acetylcholinesterase')\n",
    "targets = pd.DataFrame.from_dict(target_query)"
   ]
  },
  {
   "cell_type": "markdown",
   "id": "0b94e138",
   "metadata": {},
   "source": [
    "Next, we want to retrieve the valuable information held by these search targets."
   ]
  },
  {
   "cell_type": "code",
   "execution_count": 7,
   "id": "18fb5b3f",
   "metadata": {},
   "outputs": [],
   "source": [
    "# the particular entry we are looking for is the one\n",
    "# that will give us insight into the effects of\n",
    "# bioactive compounds on the acetylcholinesterase\n",
    "# found in humans, which in this case is the first\n",
    "# entry\n",
    "\n",
    "selected_target = targets.target_chembl_id[0]"
   ]
  },
  {
   "cell_type": "markdown",
   "id": "ad6dba74",
   "metadata": {},
   "source": [
    "Filter out values not reported in \"pChEMBL\" units/measurements"
   ]
  },
  {
   "cell_type": "code",
   "execution_count": 8,
   "id": "97a15c95",
   "metadata": {},
   "outputs": [],
   "source": [
    "activity = new_client.activity\n",
    "res = activity.filter(target_chembl_id=selected_target).filter(standard_type=\"IC50\")\n",
    "\n",
    "# we filter out non-IC50 measurements for \n",
    "# standardization and ease of analysis\n",
    "# https://en.wikipedia.org/wiki/IC50\n",
    "\n",
    "df = pd.DataFrame.from_dict(res)\n",
    "\n",
    "# we save the most rudimentary df into a csv to save\n",
    "# our work, but we will not be using the csv.\n",
    "\n",
    "df.to_csv('acetylcholinesterase_01_bioactivity_data_raw.csv', index=False)"
   ]
  },
  {
   "cell_type": "code",
   "execution_count": 9,
   "id": "3ae6e8e2",
   "metadata": {},
   "outputs": [
    {
     "name": "stderr",
     "output_type": "stream",
     "text": [
      "/var/folders/r4/qqq4_g3s50173_4l3rk6jj1w0000gn/T/ipykernel_5944/1607056213.py:6: UserWarning: Boolean Series key will be reindexed to match DataFrame index.\n",
      "  df_temp2 = df_temp[df.canonical_smiles.notna()]\n"
     ]
    }
   ],
   "source": [
    "# more filtering: data cleaning of rows with N/A\n",
    "# reported for important values, and for the same\n",
    "# chemical compounds\n",
    "\n",
    "df_temp = df[df.standard_value.notna()]\n",
    "df_temp2 = df_temp[df.canonical_smiles.notna()]\n",
    "df_temp3 = df_temp2.drop_duplicates(['canonical_smiles'])\n",
    "\n",
    "df = df_temp3"
   ]
  },
  {
   "cell_type": "code",
   "execution_count": 10,
   "id": "49f26743",
   "metadata": {},
   "outputs": [],
   "source": [
    "selection = ['molecule_chembl_id','canonical_smiles','standard_value']\n",
    "df = df[selection]"
   ]
  },
  {
   "cell_type": "code",
   "execution_count": null,
   "id": "6f907fd4",
   "metadata": {},
   "outputs": [],
   "source": []
  },
  {
   "cell_type": "code",
   "execution_count": null,
   "id": "62cacb28",
   "metadata": {},
   "outputs": [],
   "source": []
  },
  {
   "cell_type": "code",
   "execution_count": null,
   "id": "e41191d3",
   "metadata": {},
   "outputs": [],
   "source": []
  },
  {
   "cell_type": "code",
   "execution_count": null,
   "id": "af116628",
   "metadata": {},
   "outputs": [],
   "source": []
  },
  {
   "cell_type": "code",
   "execution_count": null,
   "id": "18d6e739",
   "metadata": {},
   "outputs": [],
   "source": []
  },
  {
   "cell_type": "code",
   "execution_count": null,
   "id": "caf16f73",
   "metadata": {},
   "outputs": [],
   "source": []
  },
  {
   "cell_type": "code",
   "execution_count": null,
   "id": "18aa7902",
   "metadata": {},
   "outputs": [],
   "source": []
  },
  {
   "cell_type": "code",
   "execution_count": null,
   "id": "8bed1862",
   "metadata": {},
   "outputs": [],
   "source": []
  },
  {
   "cell_type": "code",
   "execution_count": null,
   "id": "ea09df41",
   "metadata": {},
   "outputs": [],
   "source": []
  },
  {
   "cell_type": "code",
   "execution_count": null,
   "id": "fc4b7f8b",
   "metadata": {},
   "outputs": [],
   "source": []
  }
 ],
 "metadata": {
  "kernelspec": {
   "display_name": "Python 3 (ipykernel)",
   "language": "python",
   "name": "python3"
  },
  "language_info": {
   "codemirror_mode": {
    "name": "ipython",
    "version": 3
   },
   "file_extension": ".py",
   "mimetype": "text/x-python",
   "name": "python",
   "nbconvert_exporter": "python",
   "pygments_lexer": "ipython3",
   "version": "3.9.7"
  }
 },
 "nbformat": 4,
 "nbformat_minor": 5
}
